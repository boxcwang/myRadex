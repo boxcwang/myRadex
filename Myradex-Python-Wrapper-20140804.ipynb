{
 "metadata": {
  "name": "",
  "signature": "sha256:c67f51abd008e70e60c2a9ad867747f7b5930d8eeb1a3d62de59f9949205fa78"
 },
 "nbformat": 3,
 "nbformat_minor": 0,
 "worksheets": [
  {
   "cells": [
    {
     "cell_type": "markdown",
     "metadata": {},
     "source": [
      "##Don't read the first three paragraphs."
     ]
    },
    {
     "cell_type": "code",
     "collapsed": false,
     "input": [
      "%pylab inline\n",
      "import os\n",
      "import glob\n",
      "\n",
      "rc('font',**{'family':'serif',\n",
      "             'serif':['Palatino']})\n",
      "rc('text', **{'usetex': True})"
     ],
     "language": "python",
     "metadata": {},
     "outputs": [
      {
       "output_type": "stream",
       "stream": "stdout",
       "text": [
        "Populating the interactive namespace from numpy and matplotlib\n"
       ]
      }
     ],
     "prompt_number": 1
    },
    {
     "cell_type": "code",
     "collapsed": false,
     "input": [
      "execfile(\"/Users/fdu/Dropbox/myScripts/my_script.py\")\n",
      "execfile(\"/Users/fdu/Dropbox/myScripts/long_function_definitions.py\")\n",
      "mycm = make_my_colormap(c_list=[(0.0, (0.5, 0.0, 0.5)),\n",
      "                                (0.2, (0.0, 0.0, 1.0)),\n",
      "                                (0.4, (0.0, 0.8, 1.0)),\n",
      "                                (0.6, (0.0, 0.8, 0.0)),\n",
      "                                (0.8, (1.0, 0.8, 0.0)),\n",
      "                                (1.0, (1.0, 0.0, 0.0))])\n",
      "\n",
      "rcParams['axes.color_cycle'] = mycolors\n",
      "#print mycolors"
     ],
     "language": "python",
     "metadata": {},
     "outputs": [],
     "prompt_number": 2
    },
    {
     "cell_type": "code",
     "collapsed": false,
     "input": [
      "def lower_keys(p):\n",
      "    for k in p.keys():\n",
      "        try:\n",
      "            p[k.lower()] = p.pop(k)\n",
      "        except:\n",
      "            pass\n",
      "    return\n",
      "\n",
      "def print_e(en, f):\n",
      "    for i in xrange(len(en)):\n",
      "        print '{:9.2f} {:9.2e}'.format(energies[i], f[i])\n",
      "    return\n",
      "\n",
      "def cast_into_dic(col_names, arr):\n",
      "    '''col_names is column_info, and arr is data_transitions (see below).'''\n",
      "    names = col_names.split()\n",
      "    return {names[i]: arr[i,:] for i in xrange(len(names))}"
     ],
     "language": "python",
     "metadata": {},
     "outputs": [],
     "prompt_number": 46
    },
    {
     "cell_type": "markdown",
     "metadata": {},
     "source": [
      "#Start using the wrapper"
     ]
    },
    {
     "cell_type": "markdown",
     "metadata": {},
     "source": [
      "###Import the wrapper"
     ]
    },
    {
     "cell_type": "code",
     "collapsed": false,
     "input": [
      "import wrapper_my_radex\n",
      "wrapper = wrapper_my_radex.myradex_wrapper\n",
      "about_info = ''.join(list(wrapper.about))\n",
      "column_info = ''.join(list(wrapper.column_names))\n",
      "#print about_info"
     ],
     "language": "python",
     "metadata": {},
     "outputs": [],
     "prompt_number": 73
    },
    {
     "cell_type": "markdown",
     "metadata": {},
     "source": [
      "###Load the molecule data\n",
      "\n",
      "**The returned ```n_levels,n_item,n_transitions``` are needed for the next step.**"
     ]
    },
    {
     "cell_type": "code",
     "collapsed": false,
     "input": [
      "n_levels,n_item,n_transitions = \\\n",
      "    wrapper.config_basic('/Users/fdu/not_synced/work/from_others/CHIANTI/toLAMDA/',\n",
      "                         'Fe+_1e5K.dat', True)"
     ],
     "language": "python",
     "metadata": {},
     "outputs": [],
     "prompt_number": 44
    },
    {
     "cell_type": "markdown",
     "metadata": {},
     "source": [
      "###Do the statistical equilibrium calculation"
     ]
    },
    {
     "cell_type": "code",
     "collapsed": false,
     "input": [
      "params = {'Tkin': 1e3,\n",
      "          'dv_CGS': 1e5,\n",
      "          'dens_X_CGS': 1e6,\n",
      "          'Ncol_X_CGS': 1e15,\n",
      "          'H2_density_CGS': 1e9,\n",
      "          'HI_density_CGS': 1e1,\n",
      "          'oH2_density_CGS': 0.0,\n",
      "          'pH2_densty_CGS': 0.0,\n",
      "          'HII_density_CGS': 0.0,\n",
      "          'Electron_density_CGS': 1e6,\n",
      "          'n_levels': n_levels,\n",
      "          'n_item': n_item,\n",
      "          'n_transitions': n_transitions}\n",
      "\n",
      "\"\"\"The keywords to the wrapper function have to be in\n",
      "lower case, so I have to lower the keys of params.\n",
      "Of course you can use lower case letters from the beginning.\"\"\"\n",
      "\n",
      "lower_keys(params)\n",
      "\n",
      "\"\"\"Do the calculation.\n",
      "Return a four element tuple, whose meanings are self-evident.\"\"\"\n",
      "\n",
      "energies,f_occupations,data_transitions,cooling_rate = \\\n",
      "    wrapper.run_one_params(**params)"
     ],
     "language": "python",
     "metadata": {},
     "outputs": [],
     "prompt_number": 45
    },
    {
     "cell_type": "markdown",
     "metadata": {},
     "source": [
      "#That's it\n",
      "\n",
      "1. Then you can play with the results.\n",
      "1. You may want to transpose ```data_transitions``` to match the expected layout, but you don't have to.\n",
      "1. You may also cast the the results into a python dict using ```cast_into_dic``` defined above.\n",
      "\n",
      "--------------------------------\n",
      "\n",
      "--------------------------------"
     ]
    },
    {
     "cell_type": "markdown",
     "metadata": {},
     "source": [
      "#Make some plots"
     ]
    },
    {
     "cell_type": "code",
     "collapsed": false,
     "input": [
      "figure(figsize=(10,5))\n",
      "plot(energies, f_occupations, marker='o')\n",
      "ax = gca()\n",
      "ax.set_xlabel('E (K)')\n",
      "ax.set_ylabel('Occupation')\n",
      "ax.set_ylim((1e-15,1e0))\n",
      "ax.set_xscale('log')\n",
      "ax.set_yscale('log')\n",
      "set_axis_format(ax, graygrid=True)"
     ],
     "language": "python",
     "metadata": {},
     "outputs": [
      {
       "metadata": {},
       "output_type": "display_data",
       "png": "[encoded data removed]",
       "text": [
        "<matplotlib.figure.Figure at 0x106ffaf50>"
       ]
      }
     ],
     "prompt_number": 19
    },
    {
     "cell_type": "code",
     "collapsed": false,
     "input": [
      "cooling_rate"
     ],
     "language": "python",
     "metadata": {},
     "outputs": [
      {
       "metadata": {},
       "output_type": "pyout",
       "prompt_number": 11,
       "text": [
        "6.728609586798907e-11"
       ]
      }
     ],
     "prompt_number": 11
    },
    {
     "cell_type": "code",
     "collapsed": false,
     "input": [
      "data_transitions.shape"
     ],
     "language": "python",
     "metadata": {},
     "outputs": [
      {
       "metadata": {},
       "output_type": "pyout",
       "prompt_number": 21,
       "text": [
        "(19, 822)"
       ]
      }
     ],
     "prompt_number": 21
    },
    {
     "cell_type": "code",
     "collapsed": false,
     "input": [
      "wrapper.flag_good"
     ],
     "language": "python",
     "metadata": {},
     "outputs": [
      {
       "metadata": {},
       "output_type": "pyout",
       "prompt_number": 22,
       "text": [
        "array(1, dtype=int32)"
       ]
      }
     ],
     "prompt_number": 22
    },
    {
     "cell_type": "code",
     "collapsed": false,
     "input": [
      "wrapper.n_item_column"
     ],
     "language": "python",
     "metadata": {},
     "outputs": [
      {
       "metadata": {},
       "output_type": "pyout",
       "prompt_number": 7,
       "text": [
        "array(19, dtype=int32)"
       ]
      }
     ],
     "prompt_number": 7
    },
    {
     "cell_type": "markdown",
     "metadata": {},
     "source": [
      "#Work with other molecules"
     ]
    },
    {
     "cell_type": "code",
     "collapsed": false,
     "input": [
      "n_levels,n_item,n_transitions = \\\n",
      "    wrapper.config_basic('/Users/fdu/not_synced/work/from_others/CHIANTI/toLAMDA/',\n",
      "                         'O.dat', True)\n",
      "\n",
      "params = {'Tkin': 1e3,\n",
      "          'dv_CGS': 1e5,\n",
      "          'dens_X_CGS': 1e6,\n",
      "          'Ncol_X_CGS': 1e15,\n",
      "          'H2_density_CGS': 1e9,\n",
      "          'HI_density_CGS': 1e1,\n",
      "          'oH2_density_CGS': 0.0,\n",
      "          'pH2_densty_CGS': 0.0,\n",
      "          'HII_density_CGS': 0.0,\n",
      "          'Electron_density_CGS': 1e6,\n",
      "          'n_levels': n_levels,\n",
      "          'n_item': n_item,\n",
      "          'n_transitions': n_transitions}\n",
      "\n",
      "lower_keys(params)\n",
      "\n",
      "energies,f_occupations,data_transitions,cooling_rate = \\\n",
      "    wrapper.run_one_params(**params)\n",
      "\n",
      "print_e(energies, f_occupations)"
     ],
     "language": "python",
     "metadata": {},
     "outputs": [
      {
       "output_type": "stream",
       "stream": "stdout",
       "text": [
        "     0.00  6.35e-01\n",
        "   227.71  2.75e-01\n",
        "   326.57  8.99e-02\n",
        " 22830.29  5.32e-11\n",
        " 48619.93  2.22e-24\n"
       ]
      }
     ],
     "prompt_number": 10
    },
    {
     "cell_type": "code",
     "collapsed": false,
     "input": [
      "n_levels,n_item,n_transitions = \\\n",
      "    wrapper.config_basic('/Users/fdu/not_synced/work/from_others/CHIANTI/toLAMDA/',\n",
      "                         'N+_1e5K.dat', True)\n",
      "\n",
      "params = {'Tkin': 1e3,\n",
      "          'dv_CGS': 1e5,\n",
      "          'dens_X_CGS': 1e6,\n",
      "          'Ncol_X_CGS': 1e15,\n",
      "          'H2_density_CGS': 1e9,\n",
      "          'HI_density_CGS': 1e1,\n",
      "          'oH2_density_CGS': 0.0,\n",
      "          'pH2_densty_CGS': 0.0,\n",
      "          'HII_density_CGS': 0.0,\n",
      "          'Electron_density_CGS': 1e6,\n",
      "          'n_levels': n_levels,\n",
      "          'n_item': n_item,\n",
      "          'n_transitions': n_transitions}\n",
      "\n",
      "lower_keys(params)\n",
      "\n",
      "energies,f_occupations,data_transitions,cooling_rate = \\\n",
      "    wrapper.run_one_params(**params)\n",
      "\n",
      "print_e(energies, f_occupations)"
     ],
     "language": "python",
     "metadata": {},
     "outputs": [
      {
       "output_type": "stream",
       "stream": "stdout",
       "text": [
        "     0.00  1.26e-01\n",
        "    70.07  3.52e-01\n",
        "   188.19  5.22e-01\n",
        " 22036.57  1.65e-10\n",
        " 47031.84  7.89e-23\n",
        " 67312.53  1.41e-33\n"
       ]
      }
     ],
     "prompt_number": 11
    },
    {
     "cell_type": "code",
     "collapsed": false,
     "input": [
      "n_levels,n_item,n_transitions = \\\n",
      "    wrapper.config_basic('/Users/fdu/not_synced/work/from_others/CHIANTI/toLAMDA/',\n",
      "                         'N+_1e5K.dat', True)\n",
      "\n",
      "params = {'Tkin': 1e3,\n",
      "          'dv_CGS': 1e5,\n",
      "          'dens_X_CGS': 1e6,\n",
      "          'Ncol_X_CGS': 1e15,\n",
      "          'H2_density_CGS': 1e9,\n",
      "          'HI_density_CGS': 1e1,\n",
      "          'oH2_density_CGS': 0.0,\n",
      "          'pH2_densty_CGS': 0.0,\n",
      "          'HII_density_CGS': 0.0,\n",
      "          'Electron_density_CGS': 1e6,\n",
      "          'n_levels': n_levels,\n",
      "          'n_item': n_item,\n",
      "          'n_transitions': n_transitions}\n",
      "\n",
      "lower_keys(params)\n",
      "\n",
      "energies,f_occupations,data_transitions,cooling_rate = \\\n",
      "    wrapper.run_one_params(**params)\n",
      "\n",
      "print_e(energies, f_occupations)"
     ],
     "language": "python",
     "metadata": {},
     "outputs": [
      {
       "output_type": "stream",
       "stream": "stdout",
       "text": [
        "     0.00  1.26e-01\n",
        "    70.07  3.52e-01\n",
        "   188.19  5.22e-01\n",
        " 22036.57  1.65e-10\n",
        " 47031.84  7.89e-23\n",
        " 67312.53  1.41e-33\n"
       ]
      }
     ],
     "prompt_number": 55
    },
    {
     "cell_type": "code",
     "collapsed": false,
     "input": [
      "n_levels,n_item,n_transitions = \\\n",
      "    wrapper.config_basic('/Users/fdu/now/transitions/',\n",
      "                         '12C16O_H2.dat', True)"
     ],
     "language": "python",
     "metadata": {},
     "outputs": [],
     "prompt_number": 56
    },
    {
     "cell_type": "code",
     "collapsed": false,
     "input": [
      "params = {'Tkin': 1e2,\n",
      "          'dv_CGS': 10e5,\n",
      "          'dens_X_CGS': 1e0,\n",
      "          'Ncol_X_CGS': 1e15,\n",
      "          'H2_density_CGS': 1e2,\n",
      "          'HI_density_CGS': 0.0,\n",
      "          'oH2_density_CGS': 0.0,\n",
      "          'pH2_densty_CGS': 0.0,\n",
      "          'HII_density_CGS': 0.0,\n",
      "          'Electron_density_CGS': 0.0,\n",
      "          'n_levels': n_levels,\n",
      "          'n_item': n_item,\n",
      "          'n_transitions': n_transitions}\n",
      "\n",
      "lower_keys(params)\n",
      "\n",
      "energies,f_occupations,data_transitions,cooling_rate = \\\n",
      "    wrapper.run_one_params(**params)\n",
      "d1 = cast_into_dic(column_info, data_transitions)\n",
      "print d1.keys()\n",
      "\n",
      "params['H2_density_CGS'.lower()] = 1e4\n",
      "energies,f_occupations,data_transitions,cooling_rate = \\\n",
      "    wrapper.run_one_params(**params)\n",
      "d2 = cast_into_dic(column_info, data_transitions)\n",
      "\n",
      "params['H2_density_CGS'.lower()] = 1e5\n",
      "energies,f_occupations,data_transitions,cooling_rate = \\\n",
      "    wrapper.run_one_params(**params)\n",
      "d3 = cast_into_dic(column_info, data_transitions)\n",
      "\n",
      "params['H2_density_CGS'.lower()] = 1e6\n",
      "energies,f_occupations,data_transitions,cooling_rate = \\\n",
      "    wrapper.run_one_params(**params)\n",
      "d4 = cast_into_dic(column_info, data_transitions)"
     ],
     "language": "python",
     "metadata": {},
     "outputs": [
      {
       "output_type": "stream",
       "stream": "stdout",
       "text": [
        "['lam', 'Jnu', 'fup', 'tau', 'Blu', 'flow', 'Tr', 'ilow', 'flux_K', 'Tex', 'flux', 'beta', 'gup', 'Aul', 'Bul', 'iup', 'freq', 'Eup', 'glow']\n"
       ]
      }
     ],
     "prompt_number": 66
    },
    {
     "cell_type": "code",
     "collapsed": false,
     "input": [
      "figure(figsize=(10,7))\n",
      "plot(d1['Eup'], d1['Tex'], marker='o', label='n(H$_2$)=$10^2$ cm$^{-3}$')\n",
      "plot(d2['Eup'], d2['Tex'], marker='o', label='n(H$_2$)=$10^4$ cm$^{-3}$')\n",
      "plot(d3['Eup'], d3['Tex'], marker='o', label='n(H$_2$)=$10^5$ cm$^{-3}$')\n",
      "plot(d3['Eup'], d4['Tex'], marker='o', label='n(H$_2$)=$10^6$ cm$^{-3}$')\n",
      "ax = gca()\n",
      "ax.set_xlabel('E (K)')\n",
      "ax.set_ylabel(r'$T_{\\rm ex}$ (K)')\n",
      "ax.set_xscale('log')\n",
      "ax.set_yscale('symlog', linthreshy=10)\n",
      "set_axis_format(ax, graygrid=True)\n",
      "_ = legend(fontsize=15, framealpha=0.2, loc='best')"
     ],
     "language": "python",
     "metadata": {},
     "outputs": [
      {
       "metadata": {},
       "output_type": "display_data",
       "png": "[encoded data removed]",
       "text": [
        "<matplotlib.figure.Figure at 0x106af4490>"
       ]
      }
     ],
     "prompt_number": 71
    },
    {
     "cell_type": "code",
     "collapsed": false,
     "input": [],
     "language": "python",
     "metadata": {},
     "outputs": []
    }
   ],
   "metadata": {}
  }
 ]
}