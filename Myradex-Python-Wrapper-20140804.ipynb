{
 "cells": [
  {
   "cell_type": "markdown",
   "metadata": {},
   "source": [
    "##Don't read the first three paragraphs.\n",
    "\n",
    "Link to this notebook: https://www.dropbox.com/s/79pt2r35sqha51h/Myradex-Python-Wrapper-20140804.ipynb\n",
    "\n",
    "or better this one\n",
    "http://nbviewer.ipython.org/urls/dl.dropbox.com/s/79pt2r35sqha51h/Myradex-Python-Wrapper-20140804.ipynb"
   ]
  },
  {
   "cell_type": "code",
   "execution_count": 6,
   "metadata": {},
   "outputs": [
    {
     "name": "stdout",
     "output_type": "stream",
     "text": [
      "Populating the interactive namespace from numpy and matplotlib\n"
     ]
    }
   ],
   "source": [
    "%pylab inline\n",
    "import os\n",
    "\n",
    "rc('font',**{'family':'serif',\n",
    "             'serif':['Palatino']})\n",
    "rc('text', **{'usetex': True})"
   ]
  },
  {
   "cell_type": "code",
   "execution_count": null,
   "metadata": {
    "collapsed": true
   },
   "outputs": [],
   "source": [
    "execfile(\"/Users/fdu/Dropbox/myScripts/my_script.py\")\n",
    "execfile(\"/Users/fdu/Dropbox/myScripts/long_function_definitions.py\")\n",
    "mycm = make_my_colormap(c_list=[(0.0, (0.5, 0.0, 0.5)),\n",
    "                                (0.2, (0.0, 0.0, 1.0)),\n",
    "                                (0.4, (0.0, 0.8, 1.0)),\n",
    "                                (0.6, (0.0, 0.8, 0.0)),\n",
    "                                (0.8, (1.0, 0.8, 0.0)),\n",
    "                                (1.0, (1.0, 0.0, 0.0))])\n",
    "\n",
    "rcParams['axes.color_cycle'] = mycolors\n",
    "#print mycolors"
   ]
  },
  {
   "cell_type": "code",
   "execution_count": 4,
   "metadata": {},
   "outputs": [],
   "source": [
    "def lower_keys(p):\n",
    "    for k in p.keys():\n",
    "        try:\n",
    "            p[k.lower()] = p.pop(k)\n",
    "        except:\n",
    "            pass\n",
    "    return\n",
    "\n",
    "def print_e(en, f):\n",
    "    for i in xrange(len(en)):\n",
    "        print('{:9.2f} {:9.2e}'.format(en[i], f[i]))\n",
    "    return\n",
    "\n",
    "def cast_into_dic(col_names, arr):\n",
    "    '''col_names is column_info, and arr is data_transitions (see below).'''\n",
    "    names = col_names.split()\n",
    "    return {names[i]: arr[i,:] for i in xrange(len(names))}"
   ]
  },
  {
   "cell_type": "markdown",
   "metadata": {},
   "source": [
    "# Start using the wrapper"
   ]
  },
  {
   "cell_type": "markdown",
   "metadata": {},
   "source": [
    "### Import the wrapper"
   ]
  },
  {
   "cell_type": "code",
   "execution_count": 1,
   "metadata": {},
   "outputs": [
    {
     "name": "stdout",
     "output_type": "stream",
     "text": [
      "Author: Fujun Du (fujun.du@gmail.com, fjdu@pmo.ac.cn)           \n"
     ]
    }
   ],
   "source": [
    "import wrapper_my_radex\n",
    "wrapper = wrapper_my_radex.myradex_wrapper\n",
    "about_info = wrapper.about.tostring()\n",
    "column_info = wrapper.column_names.tostring()\n",
    "print(about_info)"
   ]
  },
  {
   "cell_type": "markdown",
   "metadata": {},
   "source": [
    "### Load the molecule data\n",
    "\n",
    "**The returned ```n_levels,n_item,n_transitions``` are needed for the next step.**"
   ]
  },
  {
   "cell_type": "code",
   "execution_count": 2,
   "metadata": {},
   "outputs": [],
   "source": [
    "n_levels,n_item,n_transitions = \\\n",
    "    wrapper.config_basic('/Users/fjdu/Dropbox/myCodes/my_radex/',\n",
    "                         'Fe+_1e5K.dat', 5.73, True)"
   ]
  },
  {
   "cell_type": "markdown",
   "metadata": {},
   "source": [
    "### Do the statistical equilibrium calculation"
   ]
  },
  {
   "cell_type": "code",
   "execution_count": 5,
   "metadata": {},
   "outputs": [],
   "source": [
    "params = {'Tkin': 1e3,\n",
    "          'dv_CGS': 1e5,\n",
    "          'dens_X_CGS': 1e6,\n",
    "          'Ncol_X_CGS': 1e15,\n",
    "          'H2_density_CGS': 1e9,\n",
    "          'HI_density_CGS': 1e1,\n",
    "          'oH2_density_CGS': 0.0,\n",
    "          'pH2_densty_CGS': 0.0,\n",
    "          'HII_density_CGS': 0.0,\n",
    "          'Electron_density_CGS': 1e6,\n",
    "          'n_levels': n_levels,\n",
    "          'n_item': n_item,\n",
    "          'n_transitions': n_transitions}\n",
    "\n",
    "\"\"\"The keywords to the wrapper function have to be in\n",
    "lower case, so I have to lower the keys of params.\n",
    "Of course you can use lower case letters from the beginning.\"\"\"\n",
    "\n",
    "lower_keys(params)\n",
    "\n",
    "\"\"\"Do the calculation.\n",
    "Return a four element tuple, whose meanings are self-evident.\"\"\"\n",
    "\n",
    "energies,f_occupations,data_transitions,cooling_rate = \\\n",
    "    wrapper.run_one_params(**params)"
   ]
  },
  {
   "cell_type": "markdown",
   "metadata": {},
   "source": [
    "#That's it\n",
    "\n",
    "1. Then you can play with the results.\n",
    "1. You may want to transpose ```data_transitions``` to match the expected layout, but you don't have to.\n",
    "1. You may also cast the the results into a python dict using ```cast_into_dic``` defined above.\n",
    "\n",
    "--------------------------------\n",
    "\n",
    "--------------------------------"
   ]
  },
  {
   "cell_type": "markdown",
   "metadata": {},
   "source": [
    "#Make some plots"
   ]
  },
  {
   "cell_type": "code",
   "execution_count": 7,
   "metadata": {},
   "outputs": [
    {
     "data": {
      "image/png": "[encoded data removed]",
      "text/plain": [
       "<matplotlib.figure.Figure at 0x10a18e910>"
      ]
     },
     "metadata": {},
     "output_type": "display_data"
    }
   ],
   "source": [
    "figure(figsize=(10,5))\n",
    "plot(energies, f_occupations, marker='o')\n",
    "ax = gca()\n",
    "ax.set_xlabel('E (K)')\n",
    "ax.set_ylabel('Occupation')\n",
    "ax.set_ylim((1e-15,1e0))\n",
    "ax.set_xscale('log')\n",
    "ax.set_yscale('log')\n",
    "#set_axis_format(ax, graygrid=True)"
   ]
  },
  {
   "cell_type": "code",
   "execution_count": 11,
   "metadata": {},
   "outputs": [
    {
     "data": {
      "text/plain": [
       "6.728609586798907e-11"
      ]
     },
     "execution_count": 11,
     "metadata": {},
     "output_type": "execute_result"
    }
   ],
   "source": [
    "cooling_rate"
   ]
  },
  {
   "cell_type": "code",
   "execution_count": 21,
   "metadata": {},
   "outputs": [
    {
     "data": {
      "text/plain": [
       "(19, 822)"
      ]
     },
     "execution_count": 21,
     "metadata": {},
     "output_type": "execute_result"
    }
   ],
   "source": [
    "data_transitions.shape"
   ]
  },
  {
   "cell_type": "code",
   "execution_count": 22,
   "metadata": {},
   "outputs": [
    {
     "data": {
      "text/plain": [
       "array(1, dtype=int32)"
      ]
     },
     "execution_count": 22,
     "metadata": {},
     "output_type": "execute_result"
    }
   ],
   "source": [
    "wrapper.flag_good"
   ]
  },
  {
   "cell_type": "code",
   "execution_count": 7,
   "metadata": {},
   "outputs": [
    {
     "data": {
      "text/plain": [
       "array(19, dtype=int32)"
      ]
     },
     "execution_count": 7,
     "metadata": {},
     "output_type": "execute_result"
    }
   ],
   "source": [
    "wrapper.n_item_column"
   ]
  },
  {
   "cell_type": "markdown",
   "metadata": {},
   "source": [
    "#Work with other molecules"
   ]
  },
  {
   "cell_type": "code",
   "execution_count": 10,
   "metadata": {},
   "outputs": [
    {
     "name": "stdout",
     "output_type": "stream",
     "text": [
      "     0.00  6.35e-01\n",
      "   227.71  2.75e-01\n",
      "   326.57  8.99e-02\n",
      " 22830.29  5.32e-11\n",
      " 48619.93  2.22e-24\n"
     ]
    }
   ],
   "source": [
    "n_levels,n_item,n_transitions = \\\n",
    "    wrapper.config_basic('/Users/fdu/not_synced/work/from_others/CHIANTI/toLAMDA/',\n",
    "                         'O.dat', True)\n",
    "\n",
    "params = {'Tkin': 1e3,\n",
    "          'dv_CGS': 1e5,\n",
    "          'dens_X_CGS': 1e6,\n",
    "          'Ncol_X_CGS': 1e15,\n",
    "          'H2_density_CGS': 1e9,\n",
    "          'HI_density_CGS': 1e1,\n",
    "          'oH2_density_CGS': 0.0,\n",
    "          'pH2_densty_CGS': 0.0,\n",
    "          'HII_density_CGS': 0.0,\n",
    "          'Electron_density_CGS': 1e6,\n",
    "          'n_levels': n_levels,\n",
    "          'n_item': n_item,\n",
    "          'n_transitions': n_transitions}\n",
    "\n",
    "lower_keys(params)\n",
    "\n",
    "energies,f_occupations,data_transitions,cooling_rate = \\\n",
    "    wrapper.run_one_params(**params)\n",
    "\n",
    "print_e(energies, f_occupations)"
   ]
  },
  {
   "cell_type": "code",
   "execution_count": 11,
   "metadata": {},
   "outputs": [
    {
     "name": "stdout",
     "output_type": "stream",
     "text": [
      "     0.00  1.26e-01\n",
      "    70.07  3.52e-01\n",
      "   188.19  5.22e-01\n",
      " 22036.57  1.65e-10\n",
      " 47031.84  7.89e-23\n",
      " 67312.53  1.41e-33\n"
     ]
    }
   ],
   "source": [
    "n_levels,n_item,n_transitions = \\\n",
    "    wrapper.config_basic('/Users/fdu/not_synced/work/from_others/CHIANTI/toLAMDA/',\n",
    "                         'N+_1e5K.dat', True)\n",
    "\n",
    "params = {'Tkin': 1e3,\n",
    "          'dv_CGS': 1e5,\n",
    "          'dens_X_CGS': 1e6,\n",
    "          'Ncol_X_CGS': 1e15,\n",
    "          'H2_density_CGS': 1e9,\n",
    "          'HI_density_CGS': 1e1,\n",
    "          'oH2_density_CGS': 0.0,\n",
    "          'pH2_densty_CGS': 0.0,\n",
    "          'HII_density_CGS': 0.0,\n",
    "          'Electron_density_CGS': 1e6,\n",
    "          'n_levels': n_levels,\n",
    "          'n_item': n_item,\n",
    "          'n_transitions': n_transitions}\n",
    "\n",
    "lower_keys(params)\n",
    "\n",
    "energies,f_occupations,data_transitions,cooling_rate = \\\n",
    "    wrapper.run_one_params(**params)\n",
    "\n",
    "print_e(energies, f_occupations)"
   ]
  },
  {
   "cell_type": "code",
   "execution_count": 55,
   "metadata": {},
   "outputs": [
    {
     "name": "stdout",
     "output_type": "stream",
     "text": [
      "     0.00  1.26e-01\n",
      "    70.07  3.52e-01\n",
      "   188.19  5.22e-01\n",
      " 22036.57  1.65e-10\n",
      " 47031.84  7.89e-23\n",
      " 67312.53  1.41e-33\n"
     ]
    }
   ],
   "source": [
    "n_levels,n_item,n_transitions = \\\n",
    "    wrapper.config_basic('/Users/fdu/not_synced/work/from_others/CHIANTI/toLAMDA/',\n",
    "                         'N+_1e5K.dat', True)\n",
    "\n",
    "params = {'Tkin': 1e3,\n",
    "          'dv_CGS': 1e5,\n",
    "          'dens_X_CGS': 1e6,\n",
    "          'Ncol_X_CGS': 1e15,\n",
    "          'H2_density_CGS': 1e9,\n",
    "          'HI_density_CGS': 1e1,\n",
    "          'oH2_density_CGS': 0.0,\n",
    "          'pH2_densty_CGS': 0.0,\n",
    "          'HII_density_CGS': 0.0,\n",
    "          'Electron_density_CGS': 1e6,\n",
    "          'n_levels': n_levels,\n",
    "          'n_item': n_item,\n",
    "          'n_transitions': n_transitions}\n",
    "\n",
    "lower_keys(params)\n",
    "\n",
    "energies,f_occupations,data_transitions,cooling_rate = \\\n",
    "    wrapper.run_one_params(**params)\n",
    "\n",
    "print_e(energies, f_occupations)"
   ]
  },
  {
   "cell_type": "code",
   "execution_count": 56,
   "metadata": {
    "collapsed": true
   },
   "outputs": [],
   "source": [
    "n_levels,n_item,n_transitions = \\\n",
    "    wrapper.config_basic('/Users/fdu/now/transitions/',\n",
    "                         '12C16O_H2.dat', True)"
   ]
  },
  {
   "cell_type": "code",
   "execution_count": 66,
   "metadata": {},
   "outputs": [
    {
     "name": "stdout",
     "output_type": "stream",
     "text": [
      "['lam', 'Jnu', 'fup', 'tau', 'Blu', 'flow', 'Tr', 'ilow', 'flux_K', 'Tex', 'flux', 'beta', 'gup', 'Aul', 'Bul', 'iup', 'freq', 'Eup', 'glow']\n"
     ]
    }
   ],
   "source": [
    "params = {'Tkin': 1e2,\n",
    "          'dv_CGS': 10e5,\n",
    "          'dens_X_CGS': 1e0,\n",
    "          'Ncol_X_CGS': 1e15,\n",
    "          'H2_density_CGS': 1e2,\n",
    "          'HI_density_CGS': 0.0,\n",
    "          'oH2_density_CGS': 0.0,\n",
    "          'pH2_densty_CGS': 0.0,\n",
    "          'HII_density_CGS': 0.0,\n",
    "          'Electron_density_CGS': 0.0,\n",
    "          'n_levels': n_levels,\n",
    "          'n_item': n_item,\n",
    "          'n_transitions': n_transitions}\n",
    "\n",
    "lower_keys(params)\n",
    "\n",
    "energies,f_occupations,data_transitions,cooling_rate = \\\n",
    "    wrapper.run_one_params(**params)\n",
    "d1 = cast_into_dic(column_info, data_transitions)\n",
    "print d1.keys()\n",
    "\n",
    "params['H2_density_CGS'.lower()] = 1e4\n",
    "energies,f_occupations,data_transitions,cooling_rate = \\\n",
    "    wrapper.run_one_params(**params)\n",
    "d2 = cast_into_dic(column_info, data_transitions)\n",
    "\n",
    "params['H2_density_CGS'.lower()] = 1e5\n",
    "energies,f_occupations,data_transitions,cooling_rate = \\\n",
    "    wrapper.run_one_params(**params)\n",
    "d3 = cast_into_dic(column_info, data_transitions)\n",
    "\n",
    "params['H2_density_CGS'.lower()] = 1e6\n",
    "energies,f_occupations,data_transitions,cooling_rate = \\\n",
    "    wrapper.run_one_params(**params)\n",
    "d4 = cast_into_dic(column_info, data_transitions)"
   ]
  },
  {
   "cell_type": "code",
   "execution_count": 71,
   "metadata": {},
   "outputs": [
    {
     "data": {
      "image/png": "[encoded data removed]",
      "text/plain": [
       "<matplotlib.figure.Figure at 0x106af4490>"
      ]
     },
     "metadata": {},
     "output_type": "display_data"
    }
   ],
   "source": [
    "figure(figsize=(10,7))\n",
    "plot(d1['Eup'], d1['Tex'], marker='o', label='n(H$_2$)=$10^2$ cm$^{-3}$')\n",
    "plot(d2['Eup'], d2['Tex'], marker='o', label='n(H$_2$)=$10^4$ cm$^{-3}$')\n",
    "plot(d3['Eup'], d3['Tex'], marker='o', label='n(H$_2$)=$10^5$ cm$^{-3}$')\n",
    "plot(d3['Eup'], d4['Tex'], marker='o', label='n(H$_2$)=$10^6$ cm$^{-3}$')\n",
    "ax = gca()\n",
    "ax.set_xlabel('E (K)')\n",
    "ax.set_ylabel(r'$T_{\\rm ex}$ (K)')\n",
    "ax.set_xscale('log')\n",
    "ax.set_yscale('symlog', linthreshy=10)\n",
    "set_axis_format(ax, graygrid=True)\n",
    "_ = legend(fontsize=15, framealpha=0.2, loc='best')"
   ]
  },
  {
   "cell_type": "code",
   "execution_count": null,
   "metadata": {
    "collapsed": true
   },
   "outputs": [],
   "source": []
  }
 ],
 "metadata": {
  "kernelspec": {
   "display_name": "Python 2",
   "language": "python",
   "name": "python2"
  },
  "language_info": {
   "codemirror_mode": {
    "name": "ipython",
    "version": 2
   },
   "file_extension": ".py",
   "mimetype": "text/x-python",
   "name": "python",
   "nbconvert_exporter": "python",
   "pygments_lexer": "ipython2",
   "version": "2.7.14"
  }
 },
 "nbformat": 4,
 "nbformat_minor": 1
}
